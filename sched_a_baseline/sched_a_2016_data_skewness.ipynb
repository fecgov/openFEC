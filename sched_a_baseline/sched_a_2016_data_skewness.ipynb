{
 "cells": [
  {
   "cell_type": "code",
   "execution_count": 2,
   "metadata": {
    "collapsed": true
   },
   "outputs": [],
   "source": [
    "import pandas as pd\n",
    "#import requests\n",
    "#from bs4 import BeautifulSoup\n",
    "\n",
    "#import time\n",
    "\n",
    "from pandas import Series, DataFrame\n",
    "\n",
    "import numpy as np\n",
    "import matplotlib.pyplot as plt\n",
    "import seaborn as sns\n",
    "from matplotlib import style\n",
    "\n",
    "\n",
    "from pandas import set_option\n",
    "set_option(\"display.max_rows\", 35)\n",
    "\n",
    "LARGE_FIGSIZE = (12, 8)\n",
    "style.use('ggplot')\n",
    "%matplotlib inline"
   ]
  },
  {
   "cell_type": "code",
   "execution_count": 3,
   "metadata": {},
   "outputs": [
    {
     "name": "stderr",
     "output_type": "stream",
     "text": [
      "/Users/sunshine168/.pyenv/versions/anaconda3-4.4.0/lib/python3.6/site-packages/IPython/core/interactiveshell.py:2785: DtypeWarning: Columns (3,5,10,15,18,19) have mixed types. Specify dtype option on import or set low_memory=False.\n",
      "  interactivity=interactivity, compiler=compiler, result=result)\n"
     ]
    },
    {
     "data": {
      "text/html": [
       "<div>\n",
       "<style>\n",
       "    .dataframe thead tr:only-child th {\n",
       "        text-align: right;\n",
       "    }\n",
       "\n",
       "    .dataframe thead th {\n",
       "        text-align: left;\n",
       "    }\n",
       "\n",
       "    .dataframe tbody tr th {\n",
       "        vertical-align: top;\n",
       "    }\n",
       "</style>\n",
       "<table border=\"1\" class=\"dataframe\">\n",
       "  <thead>\n",
       "    <tr style=\"text-align: right;\">\n",
       "      <th></th>\n",
       "      <th>CMTE_ID</th>\n",
       "      <th>AMNDT_IND</th>\n",
       "      <th>RPT_TP</th>\n",
       "      <th>TRANSACTION_PGI</th>\n",
       "      <th>IMAGE_NUM</th>\n",
       "      <th>TRANSACTION_TP</th>\n",
       "      <th>ENTITY_TP</th>\n",
       "      <th>NAME</th>\n",
       "      <th>CITY</th>\n",
       "      <th>STATE</th>\n",
       "      <th>...</th>\n",
       "      <th>EMPLOYER</th>\n",
       "      <th>OCCUPATION</th>\n",
       "      <th>TRANSACTION_DT</th>\n",
       "      <th>TRANSACTION_AMT</th>\n",
       "      <th>OTHER_ID</th>\n",
       "      <th>TRAN_ID</th>\n",
       "      <th>FILE_NUM</th>\n",
       "      <th>MEMO_CD</th>\n",
       "      <th>MEMO_TXT</th>\n",
       "      <th>SUB_ID</th>\n",
       "    </tr>\n",
       "  </thead>\n",
       "  <tbody>\n",
       "    <tr>\n",
       "      <th>0</th>\n",
       "      <td>C00572537</td>\n",
       "      <td>N</td>\n",
       "      <td>MY</td>\n",
       "      <td>P</td>\n",
       "      <td>201509169002679475</td>\n",
       "      <td>15</td>\n",
       "      <td>IND</td>\n",
       "      <td>CALLAHAN, MICHAEL</td>\n",
       "      <td>MONTREAL</td>\n",
       "      <td>ZZ</td>\n",
       "      <td>...</td>\n",
       "      <td>SELF EMPLOYED</td>\n",
       "      <td>MEDIA &amp; COMMUNICATIONS</td>\n",
       "      <td>3312016</td>\n",
       "      <td>19450</td>\n",
       "      <td>NaN</td>\n",
       "      <td>SA11AI.5152</td>\n",
       "      <td>1024961</td>\n",
       "      <td>X</td>\n",
       "      <td>NaN</td>\n",
       "      <td>4091720151253097597</td>\n",
       "    </tr>\n",
       "    <tr>\n",
       "      <th>1</th>\n",
       "      <td>C00550087</td>\n",
       "      <td>A</td>\n",
       "      <td>Q3</td>\n",
       "      <td>G</td>\n",
       "      <td>201611189037214001</td>\n",
       "      <td>15</td>\n",
       "      <td>IND</td>\n",
       "      <td>LASERSOHN, TOM</td>\n",
       "      <td>WESTPORT</td>\n",
       "      <td>CT</td>\n",
       "      <td>...</td>\n",
       "      <td>RETIRED</td>\n",
       "      <td>RETIRED</td>\n",
       "      <td>3312016</td>\n",
       "      <td>1000</td>\n",
       "      <td>NaN</td>\n",
       "      <td>SA11AI.5127</td>\n",
       "      <td>1126451</td>\n",
       "      <td>X</td>\n",
       "      <td>NaN</td>\n",
       "      <td>4111820161350974138</td>\n",
       "    </tr>\n",
       "    <tr>\n",
       "      <th>2</th>\n",
       "      <td>C00578013</td>\n",
       "      <td>A</td>\n",
       "      <td>YE</td>\n",
       "      <td>P</td>\n",
       "      <td>201608050200329616</td>\n",
       "      <td>15E</td>\n",
       "      <td>IND</td>\n",
       "      <td>MANSON, CONNIE</td>\n",
       "      <td>OLYMPIA</td>\n",
       "      <td>WA</td>\n",
       "      <td>...</td>\n",
       "      <td>AMERICAN GEOLOGICAL INSTITUTE</td>\n",
       "      <td>EDITOR/INDEXER</td>\n",
       "      <td>3172016</td>\n",
       "      <td>50</td>\n",
       "      <td>C00401224</td>\n",
       "      <td>SA09151696163854</td>\n",
       "      <td>1099259</td>\n",
       "      <td>NaN</td>\n",
       "      <td>*EARMARKED CONTRIBUTION: SEE BELOW</td>\n",
       "      <td>1032020170033936395</td>\n",
       "    </tr>\n",
       "    <tr>\n",
       "      <th>3</th>\n",
       "      <td>C00573758</td>\n",
       "      <td>A</td>\n",
       "      <td>YE</td>\n",
       "      <td>P</td>\n",
       "      <td>201702030200053330</td>\n",
       "      <td>15E</td>\n",
       "      <td>IND</td>\n",
       "      <td>ROWE, JOHN H</td>\n",
       "      <td>BOYNTON BEACH</td>\n",
       "      <td>FL</td>\n",
       "      <td>...</td>\n",
       "      <td>NaN</td>\n",
       "      <td>RETIRED</td>\n",
       "      <td>1292016</td>\n",
       "      <td>10</td>\n",
       "      <td>C00401224</td>\n",
       "      <td>SA02071733302049</td>\n",
       "      <td>1147915</td>\n",
       "      <td>NaN</td>\n",
       "      <td>EARMARKED CONTRIBUTION: SEE BELOW</td>\n",
       "      <td>2020820171370035701</td>\n",
       "    </tr>\n",
       "    <tr>\n",
       "      <th>4</th>\n",
       "      <td>C00573758</td>\n",
       "      <td>A</td>\n",
       "      <td>YE</td>\n",
       "      <td>P</td>\n",
       "      <td>201611170200661592</td>\n",
       "      <td>15E</td>\n",
       "      <td>IND</td>\n",
       "      <td>ROWE, JOHN H</td>\n",
       "      <td>BOYNTON BEACH</td>\n",
       "      <td>FL</td>\n",
       "      <td>...</td>\n",
       "      <td>NaN</td>\n",
       "      <td>RETIRED</td>\n",
       "      <td>1292016</td>\n",
       "      <td>10</td>\n",
       "      <td>C00401224</td>\n",
       "      <td>SA11211615922043</td>\n",
       "      <td>1126576</td>\n",
       "      <td>NaN</td>\n",
       "      <td>* EARMARKED CONTRIBUTION: SEE BELOW</td>\n",
       "      <td>1020620170033359950</td>\n",
       "    </tr>\n",
       "  </tbody>\n",
       "</table>\n",
       "<p>5 rows × 21 columns</p>\n",
       "</div>"
      ],
      "text/plain": [
       "     CMTE_ID AMNDT_IND RPT_TP TRANSACTION_PGI           IMAGE_NUM  \\\n",
       "0  C00572537         N     MY               P  201509169002679475   \n",
       "1  C00550087         A     Q3               G  201611189037214001   \n",
       "2  C00578013         A     YE               P  201608050200329616   \n",
       "3  C00573758         A     YE               P  201702030200053330   \n",
       "4  C00573758         A     YE               P  201611170200661592   \n",
       "\n",
       "  TRANSACTION_TP ENTITY_TP               NAME           CITY STATE  \\\n",
       "0             15       IND  CALLAHAN, MICHAEL       MONTREAL    ZZ   \n",
       "1             15       IND     LASERSOHN, TOM       WESTPORT    CT   \n",
       "2            15E       IND     MANSON, CONNIE        OLYMPIA    WA   \n",
       "3            15E       IND       ROWE, JOHN H  BOYNTON BEACH    FL   \n",
       "4            15E       IND       ROWE, JOHN H  BOYNTON BEACH    FL   \n",
       "\n",
       "          ...                                EMPLOYER              OCCUPATION  \\\n",
       "0         ...                           SELF EMPLOYED  MEDIA & COMMUNICATIONS   \n",
       "1         ...                                 RETIRED                 RETIRED   \n",
       "2         ...           AMERICAN GEOLOGICAL INSTITUTE          EDITOR/INDEXER   \n",
       "3         ...                                     NaN                 RETIRED   \n",
       "4         ...                                     NaN                 RETIRED   \n",
       "\n",
       "  TRANSACTION_DT  TRANSACTION_AMT   OTHER_ID           TRAN_ID FILE_NUM  \\\n",
       "0        3312016            19450        NaN       SA11AI.5152  1024961   \n",
       "1        3312016             1000        NaN       SA11AI.5127  1126451   \n",
       "2        3172016               50  C00401224  SA09151696163854  1099259   \n",
       "3        1292016               10  C00401224  SA02071733302049  1147915   \n",
       "4        1292016               10  C00401224  SA11211615922043  1126576   \n",
       "\n",
       "   MEMO_CD                             MEMO_TXT               SUB_ID  \n",
       "0        X                                  NaN  4091720151253097597  \n",
       "1        X                                  NaN  4111820161350974138  \n",
       "2      NaN   *EARMARKED CONTRIBUTION: SEE BELOW  1032020170033936395  \n",
       "3      NaN    EARMARKED CONTRIBUTION: SEE BELOW  2020820171370035701  \n",
       "4      NaN  * EARMARKED CONTRIBUTION: SEE BELOW  1020620170033359950  \n",
       "\n",
       "[5 rows x 21 columns]"
      ]
     },
     "execution_count": 3,
     "metadata": {},
     "output_type": "execute_result"
    }
   ],
   "source": [
    "# file desc: https://www.fec.gov/campaign-finance-data/all-candidates-file-description/\n",
    "sched_a_df = pd.read_csv('sched_a_2016.txt',sep='|', header=None)\n",
    "sched_a_df.columns = ['CMTE_ID',\n",
    "                      'AMNDT_IND',\n",
    "                      'RPT_TP',\n",
    "                      'TRANSACTION_PGI',\n",
    "                      'IMAGE_NUM',\n",
    "                      'TRANSACTION_TP',\n",
    "                      'ENTITY_TP',\n",
    "                      'NAME', \n",
    "                      'CITY',\n",
    "                      'STATE',\n",
    "                      'ZIP_CODE',\n",
    "                      'EMPLOYER',\n",
    "                      'OCCUPATION',\n",
    "                      'TRANSACTION_DT',\n",
    "                      'TRANSACTION_AMT',\n",
    "                      'OTHER_ID',\n",
    "                      'TRAN_ID',\n",
    "                      'FILE_NUM',\n",
    "                      'MEMO_CD',\n",
    "                      'MEMO_TXT',\n",
    "                      'SUB_ID']\n",
    "                      \n",
    "tmp = sched_a_df.head()\n",
    "tmp"
   ]
  },
  {
   "cell_type": "code",
   "execution_count": 4,
   "metadata": {},
   "outputs": [
    {
     "data": {
      "text/html": [
       "<div>\n",
       "<style>\n",
       "    .dataframe thead tr:only-child th {\n",
       "        text-align: right;\n",
       "    }\n",
       "\n",
       "    .dataframe thead th {\n",
       "        text-align: left;\n",
       "    }\n",
       "\n",
       "    .dataframe tbody tr th {\n",
       "        vertical-align: top;\n",
       "    }\n",
       "</style>\n",
       "<table border=\"1\" class=\"dataframe\">\n",
       "  <thead>\n",
       "    <tr style=\"text-align: right;\">\n",
       "      <th></th>\n",
       "      <th>0</th>\n",
       "      <th>1</th>\n",
       "      <th>2</th>\n",
       "      <th>3</th>\n",
       "      <th>4</th>\n",
       "    </tr>\n",
       "  </thead>\n",
       "  <tbody>\n",
       "    <tr>\n",
       "      <th>CMTE_ID</th>\n",
       "      <td>C00572537</td>\n",
       "      <td>C00550087</td>\n",
       "      <td>C00578013</td>\n",
       "      <td>C00573758</td>\n",
       "      <td>C00573758</td>\n",
       "    </tr>\n",
       "    <tr>\n",
       "      <th>AMNDT_IND</th>\n",
       "      <td>N</td>\n",
       "      <td>A</td>\n",
       "      <td>A</td>\n",
       "      <td>A</td>\n",
       "      <td>A</td>\n",
       "    </tr>\n",
       "    <tr>\n",
       "      <th>RPT_TP</th>\n",
       "      <td>MY</td>\n",
       "      <td>Q3</td>\n",
       "      <td>YE</td>\n",
       "      <td>YE</td>\n",
       "      <td>YE</td>\n",
       "    </tr>\n",
       "    <tr>\n",
       "      <th>TRANSACTION_PGI</th>\n",
       "      <td>P</td>\n",
       "      <td>G</td>\n",
       "      <td>P</td>\n",
       "      <td>P</td>\n",
       "      <td>P</td>\n",
       "    </tr>\n",
       "    <tr>\n",
       "      <th>IMAGE_NUM</th>\n",
       "      <td>201509169002679475</td>\n",
       "      <td>201611189037214001</td>\n",
       "      <td>201608050200329616</td>\n",
       "      <td>201702030200053330</td>\n",
       "      <td>201611170200661592</td>\n",
       "    </tr>\n",
       "    <tr>\n",
       "      <th>TRANSACTION_TP</th>\n",
       "      <td>15</td>\n",
       "      <td>15</td>\n",
       "      <td>15E</td>\n",
       "      <td>15E</td>\n",
       "      <td>15E</td>\n",
       "    </tr>\n",
       "    <tr>\n",
       "      <th>ENTITY_TP</th>\n",
       "      <td>IND</td>\n",
       "      <td>IND</td>\n",
       "      <td>IND</td>\n",
       "      <td>IND</td>\n",
       "      <td>IND</td>\n",
       "    </tr>\n",
       "    <tr>\n",
       "      <th>NAME</th>\n",
       "      <td>CALLAHAN, MICHAEL</td>\n",
       "      <td>LASERSOHN, TOM</td>\n",
       "      <td>MANSON, CONNIE</td>\n",
       "      <td>ROWE, JOHN H</td>\n",
       "      <td>ROWE, JOHN H</td>\n",
       "    </tr>\n",
       "    <tr>\n",
       "      <th>CITY</th>\n",
       "      <td>MONTREAL</td>\n",
       "      <td>WESTPORT</td>\n",
       "      <td>OLYMPIA</td>\n",
       "      <td>BOYNTON BEACH</td>\n",
       "      <td>BOYNTON BEACH</td>\n",
       "    </tr>\n",
       "    <tr>\n",
       "      <th>STATE</th>\n",
       "      <td>ZZ</td>\n",
       "      <td>CT</td>\n",
       "      <td>WA</td>\n",
       "      <td>FL</td>\n",
       "      <td>FL</td>\n",
       "    </tr>\n",
       "    <tr>\n",
       "      <th>ZIP_CODE</th>\n",
       "      <td>NaN</td>\n",
       "      <td>06880</td>\n",
       "      <td>985063741</td>\n",
       "      <td>334371659</td>\n",
       "      <td>334371659</td>\n",
       "    </tr>\n",
       "    <tr>\n",
       "      <th>EMPLOYER</th>\n",
       "      <td>SELF EMPLOYED</td>\n",
       "      <td>RETIRED</td>\n",
       "      <td>AMERICAN GEOLOGICAL INSTITUTE</td>\n",
       "      <td>NaN</td>\n",
       "      <td>NaN</td>\n",
       "    </tr>\n",
       "    <tr>\n",
       "      <th>OCCUPATION</th>\n",
       "      <td>MEDIA &amp; COMMUNICATIONS</td>\n",
       "      <td>RETIRED</td>\n",
       "      <td>EDITOR/INDEXER</td>\n",
       "      <td>RETIRED</td>\n",
       "      <td>RETIRED</td>\n",
       "    </tr>\n",
       "    <tr>\n",
       "      <th>TRANSACTION_DT</th>\n",
       "      <td>3312016</td>\n",
       "      <td>3312016</td>\n",
       "      <td>3172016</td>\n",
       "      <td>1292016</td>\n",
       "      <td>1292016</td>\n",
       "    </tr>\n",
       "    <tr>\n",
       "      <th>TRANSACTION_AMT</th>\n",
       "      <td>19450</td>\n",
       "      <td>1000</td>\n",
       "      <td>50</td>\n",
       "      <td>10</td>\n",
       "      <td>10</td>\n",
       "    </tr>\n",
       "    <tr>\n",
       "      <th>OTHER_ID</th>\n",
       "      <td>NaN</td>\n",
       "      <td>NaN</td>\n",
       "      <td>C00401224</td>\n",
       "      <td>C00401224</td>\n",
       "      <td>C00401224</td>\n",
       "    </tr>\n",
       "    <tr>\n",
       "      <th>TRAN_ID</th>\n",
       "      <td>SA11AI.5152</td>\n",
       "      <td>SA11AI.5127</td>\n",
       "      <td>SA09151696163854</td>\n",
       "      <td>SA02071733302049</td>\n",
       "      <td>SA11211615922043</td>\n",
       "    </tr>\n",
       "    <tr>\n",
       "      <th>FILE_NUM</th>\n",
       "      <td>1024961</td>\n",
       "      <td>1126451</td>\n",
       "      <td>1099259</td>\n",
       "      <td>1147915</td>\n",
       "      <td>1126576</td>\n",
       "    </tr>\n",
       "    <tr>\n",
       "      <th>MEMO_CD</th>\n",
       "      <td>X</td>\n",
       "      <td>X</td>\n",
       "      <td>NaN</td>\n",
       "      <td>NaN</td>\n",
       "      <td>NaN</td>\n",
       "    </tr>\n",
       "    <tr>\n",
       "      <th>MEMO_TXT</th>\n",
       "      <td>NaN</td>\n",
       "      <td>NaN</td>\n",
       "      <td>*EARMARKED CONTRIBUTION: SEE BELOW</td>\n",
       "      <td>EARMARKED CONTRIBUTION: SEE BELOW</td>\n",
       "      <td>* EARMARKED CONTRIBUTION: SEE BELOW</td>\n",
       "    </tr>\n",
       "    <tr>\n",
       "      <th>SUB_ID</th>\n",
       "      <td>4091720151253097597</td>\n",
       "      <td>4111820161350974138</td>\n",
       "      <td>1032020170033936395</td>\n",
       "      <td>2020820171370035701</td>\n",
       "      <td>1020620170033359950</td>\n",
       "    </tr>\n",
       "  </tbody>\n",
       "</table>\n",
       "</div>"
      ],
      "text/plain": [
       "                                      0                    1  \\\n",
       "CMTE_ID                       C00572537            C00550087   \n",
       "AMNDT_IND                             N                    A   \n",
       "RPT_TP                               MY                   Q3   \n",
       "TRANSACTION_PGI                       P                    G   \n",
       "IMAGE_NUM            201509169002679475   201611189037214001   \n",
       "TRANSACTION_TP                       15                   15   \n",
       "ENTITY_TP                           IND                  IND   \n",
       "NAME                  CALLAHAN, MICHAEL       LASERSOHN, TOM   \n",
       "CITY                           MONTREAL             WESTPORT   \n",
       "STATE                                ZZ                   CT   \n",
       "ZIP_CODE                            NaN                06880   \n",
       "EMPLOYER                  SELF EMPLOYED              RETIRED   \n",
       "OCCUPATION       MEDIA & COMMUNICATIONS              RETIRED   \n",
       "TRANSACTION_DT                  3312016              3312016   \n",
       "TRANSACTION_AMT                   19450                 1000   \n",
       "OTHER_ID                            NaN                  NaN   \n",
       "TRAN_ID                     SA11AI.5152          SA11AI.5127   \n",
       "FILE_NUM                        1024961              1126451   \n",
       "MEMO_CD                               X                    X   \n",
       "MEMO_TXT                            NaN                  NaN   \n",
       "SUB_ID              4091720151253097597  4111820161350974138   \n",
       "\n",
       "                                                  2  \\\n",
       "CMTE_ID                                   C00578013   \n",
       "AMNDT_IND                                         A   \n",
       "RPT_TP                                           YE   \n",
       "TRANSACTION_PGI                                   P   \n",
       "IMAGE_NUM                        201608050200329616   \n",
       "TRANSACTION_TP                                  15E   \n",
       "ENTITY_TP                                       IND   \n",
       "NAME                                 MANSON, CONNIE   \n",
       "CITY                                        OLYMPIA   \n",
       "STATE                                            WA   \n",
       "ZIP_CODE                                  985063741   \n",
       "EMPLOYER              AMERICAN GEOLOGICAL INSTITUTE   \n",
       "OCCUPATION                           EDITOR/INDEXER   \n",
       "TRANSACTION_DT                              3172016   \n",
       "TRANSACTION_AMT                                  50   \n",
       "OTHER_ID                                  C00401224   \n",
       "TRAN_ID                            SA09151696163854   \n",
       "FILE_NUM                                    1099259   \n",
       "MEMO_CD                                         NaN   \n",
       "MEMO_TXT         *EARMARKED CONTRIBUTION: SEE BELOW   \n",
       "SUB_ID                          1032020170033936395   \n",
       "\n",
       "                                                 3  \\\n",
       "CMTE_ID                                  C00573758   \n",
       "AMNDT_IND                                        A   \n",
       "RPT_TP                                          YE   \n",
       "TRANSACTION_PGI                                  P   \n",
       "IMAGE_NUM                       201702030200053330   \n",
       "TRANSACTION_TP                                 15E   \n",
       "ENTITY_TP                                      IND   \n",
       "NAME                                  ROWE, JOHN H   \n",
       "CITY                                 BOYNTON BEACH   \n",
       "STATE                                           FL   \n",
       "ZIP_CODE                                 334371659   \n",
       "EMPLOYER                                       NaN   \n",
       "OCCUPATION                                 RETIRED   \n",
       "TRANSACTION_DT                             1292016   \n",
       "TRANSACTION_AMT                                 10   \n",
       "OTHER_ID                                 C00401224   \n",
       "TRAN_ID                           SA02071733302049   \n",
       "FILE_NUM                                   1147915   \n",
       "MEMO_CD                                        NaN   \n",
       "MEMO_TXT         EARMARKED CONTRIBUTION: SEE BELOW   \n",
       "SUB_ID                         2020820171370035701   \n",
       "\n",
       "                                                   4  \n",
       "CMTE_ID                                    C00573758  \n",
       "AMNDT_IND                                          A  \n",
       "RPT_TP                                            YE  \n",
       "TRANSACTION_PGI                                    P  \n",
       "IMAGE_NUM                         201611170200661592  \n",
       "TRANSACTION_TP                                   15E  \n",
       "ENTITY_TP                                        IND  \n",
       "NAME                                    ROWE, JOHN H  \n",
       "CITY                                   BOYNTON BEACH  \n",
       "STATE                                             FL  \n",
       "ZIP_CODE                                   334371659  \n",
       "EMPLOYER                                         NaN  \n",
       "OCCUPATION                                   RETIRED  \n",
       "TRANSACTION_DT                               1292016  \n",
       "TRANSACTION_AMT                                   10  \n",
       "OTHER_ID                                   C00401224  \n",
       "TRAN_ID                             SA11211615922043  \n",
       "FILE_NUM                                     1126576  \n",
       "MEMO_CD                                          NaN  \n",
       "MEMO_TXT         * EARMARKED CONTRIBUTION: SEE BELOW  \n",
       "SUB_ID                           1020620170033359950  "
      ]
     },
     "execution_count": 4,
     "metadata": {},
     "output_type": "execute_result"
    }
   ],
   "source": [
    "tmp = tmp.T\n",
    "tmp"
   ]
  },
  {
   "cell_type": "code",
   "execution_count": 5,
   "metadata": {},
   "outputs": [
    {
     "data": {
      "text/plain": [
       "(14597286, 21)"
      ]
     },
     "execution_count": 5,
     "metadata": {},
     "output_type": "execute_result"
    }
   ],
   "source": [
    "sched_a_df.shape"
   ]
  },
  {
   "cell_type": "code",
   "execution_count": 6,
   "metadata": {},
   "outputs": [
    {
     "data": {
      "text/plain": [
       "CMTE_ID            14597286\n",
       "AMNDT_IND          14597286\n",
       "RPT_TP             14597286\n",
       "TRANSACTION_PGI    14098549\n",
       "IMAGE_NUM          14597286\n",
       "TRANSACTION_TP     14597286\n",
       "ENTITY_TP          14591652\n",
       "NAME               14595955\n",
       "CITY               14590712\n",
       "STATE              14571224\n",
       "ZIP_CODE           14574782\n",
       "EMPLOYER           12600882\n",
       "OCCUPATION         13970083\n",
       "TRANSACTION_DT     14597286\n",
       "TRANSACTION_AMT    14597286\n",
       "OTHER_ID            5900262\n",
       "TRAN_ID            14597270\n",
       "FILE_NUM           14597286\n",
       "MEMO_CD               76561\n",
       "MEMO_TXT            7441494\n",
       "SUB_ID             14597286\n",
       "dtype: int64"
      ]
     },
     "execution_count": 6,
     "metadata": {},
     "output_type": "execute_result"
    }
   ],
   "source": [
    "sched_a_df.count()"
   ]
  },
  {
   "cell_type": "code",
   "execution_count": 7,
   "metadata": {},
   "outputs": [
    {
     "data": {
      "text/plain": [
       "C00401224    3473182\n",
       "C00575795    2433232\n",
       "C00577130    1252557\n",
       "C00000935     629231\n",
       "C00586537     432869\n",
       "C00042366     285671\n",
       "C00573261     273237\n",
       "C00618371     245769\n",
       "C00574624     236054\n",
       "C00003418     169717\n",
       "Name: CMTE_ID, dtype: int64"
      ]
     },
     "execution_count": 7,
     "metadata": {},
     "output_type": "execute_result"
    }
   ],
   "source": [
    "sched_a_df.CMTE_ID.value_counts()[:10]"
   ]
  },
  {
   "cell_type": "code",
   "execution_count": 8,
   "metadata": {},
   "outputs": [
    {
     "data": {
      "text/plain": [
       "<matplotlib.axes._subplots.AxesSubplot at 0x11f9779e8>"
      ]
     },
     "execution_count": 8,
     "metadata": {},
     "output_type": "execute_result"
    },
    {
     "data": {
      "image/png": "[encoded data removed]",
      "text/plain": [
       "<matplotlib.figure.Figure at 0x11f9776a0>"
      ]
     },
     "metadata": {},
     "output_type": "display_data"
    }
   ],
   "source": [
    "# top committee_ids \n",
    "sched_a_df.CMTE_ID.value_counts()[:10].plot(kind='bar', color='b', title='top 10 committees')"
   ]
  },
  {
   "cell_type": "code",
   "execution_count": 9,
   "metadata": {},
   "outputs": [
    {
     "data": {
      "text/plain": [
       "<matplotlib.axes._subplots.AxesSubplot at 0x11715cd68>"
      ]
     },
     "execution_count": 9,
     "metadata": {},
     "output_type": "execute_result"
    },
    {
     "data": {
      "image/png": "[encoded data removed]",
      "text/plain": [
       "<matplotlib.figure.Figure at 0x11f977668>"
      ]
     },
     "metadata": {},
     "output_type": "display_data"
    }
   ],
   "source": [
    "# top states\n",
    "sched_a_df.STATE.value_counts()[:10].plot(kind='bar', color='b', title='top 10 states')"
   ]
  },
  {
   "cell_type": "code",
   "execution_count": 10,
   "metadata": {},
   "outputs": [
    {
     "data": {
      "text/plain": [
       "<matplotlib.axes._subplots.AxesSubplot at 0x1190c6668>"
      ]
     },
     "execution_count": 10,
     "metadata": {},
     "output_type": "execute_result"
    },
    {
     "data": {
      "image/png": "[encoded data removed]",
      "text/plain": [
       "<matplotlib.figure.Figure at 0x118678d30>"
      ]
     },
     "metadata": {},
     "output_type": "display_data"
    }
   ],
   "source": [
    "# top occupations\n",
    "sched_a_df.OCCUPATION.value_counts()[:10].plot(kind='bar', color='b', title='top 10 occupation')"
   ]
  },
  {
   "cell_type": "code",
   "execution_count": 11,
   "metadata": {},
   "outputs": [
    {
     "data": {
      "text/plain": [
       "<matplotlib.axes._subplots.AxesSubplot at 0x1190fc550>"
      ]
     },
     "execution_count": 11,
     "metadata": {},
     "output_type": "execute_result"
    },
    {
     "data": {
      "image/png": "[encoded data removed]",
      "text/plain": [
       "<matplotlib.figure.Figure at 0x1190f26a0>"
      ]
     },
     "metadata": {},
     "output_type": "display_data"
    }
   ],
   "source": [
    "# top zip code\n",
    "sched_a_df.ZIP_CODE.value_counts()[:10].plot(kind='bar', color='b', title='top 10 zip')"
   ]
  },
  {
   "cell_type": "code",
   "execution_count": 12,
   "metadata": {},
   "outputs": [
    {
     "data": {
      "text/plain": [
       "0      NaN\n",
       "1    06880\n",
       "2    98506\n",
       "3    33437\n",
       "4    33437\n",
       "5    20814\n",
       "6    28105\n",
       "7    80503\n",
       "8      NaN\n",
       "9    66221\n",
       "Name: ZIP_CODE, dtype: object"
      ]
     },
     "execution_count": 12,
     "metadata": {},
     "output_type": "execute_result"
    }
   ],
   "source": [
    "sched_a_df.ZIP = sched_a_df.ZIP_CODE.str[:5]\n",
    "sched_a_df.ZIP[:10]"
   ]
  },
  {
   "cell_type": "code",
   "execution_count": 13,
   "metadata": {},
   "outputs": [
    {
     "data": {
      "text/plain": [
       "<matplotlib.axes._subplots.AxesSubplot at 0x14bc8d908>"
      ]
     },
     "execution_count": 13,
     "metadata": {},
     "output_type": "execute_result"
    },
    {
     "data": {
      "image/png": "[encoded data removed]",
      "text/plain": [
       "<matplotlib.figure.Figure at 0x14bc8d0b8>"
      ]
     },
     "metadata": {},
     "output_type": "display_data"
    }
   ],
   "source": [
    "# top zips after cleanup\n",
    "sched_a_df.ZIP.value_counts()[:10].plot(kind='bar', color='b', title='top 10 zip')"
   ]
  },
  {
   "cell_type": "code",
   "execution_count": 14,
   "metadata": {},
   "outputs": [
    {
     "data": {
      "text/plain": [
       "<matplotlib.axes._subplots.AxesSubplot at 0x14bc8e2b0>"
      ]
     },
     "execution_count": 14,
     "metadata": {},
     "output_type": "execute_result"
    },
    {
     "data": {
      "image/png": "[encoded data removed]",
      "text/plain": [
       "<matplotlib.figure.Figure at 0x14bcee7b8>"
      ]
     },
     "metadata": {},
     "output_type": "display_data"
    }
   ],
   "source": [
    "sched_a_df.CITY.value_counts()[:10].plot(kind='bar', color='b', title='top 10 cities')"
   ]
  },
  {
   "cell_type": "code",
   "execution_count": 15,
   "metadata": {},
   "outputs": [
    {
     "data": {
      "text/plain": [
       "<matplotlib.axes._subplots.AxesSubplot at 0x14c3a9c50>"
      ]
     },
     "execution_count": 15,
     "metadata": {},
     "output_type": "execute_result"
    },
    {
     "data": {
      "image/png": "[encoded data removed]",
      "text/plain": [
       "<matplotlib.figure.Figure at 0x14bc8e630>"
      ]
     },
     "metadata": {},
     "output_type": "display_data"
    }
   ],
   "source": [
    "sched_a_df.NAME.value_counts()[:10].plot(kind='bar', color='b', title='top 10 names')"
   ]
  },
  {
   "cell_type": "code",
   "execution_count": 16,
   "metadata": {},
   "outputs": [
    {
     "data": {
      "text/plain": [
       "<matplotlib.axes._subplots.AxesSubplot at 0x14bf18ef0>"
      ]
     },
     "execution_count": 16,
     "metadata": {},
     "output_type": "execute_result"
    },
    {
     "data": {
      "image/png": "[encoded data removed]",
      "text/plain": [
       "<matplotlib.figure.Figure at 0x14c38b550>"
      ]
     },
     "metadata": {},
     "output_type": "display_data"
    }
   ],
   "source": [
    "sched_a_df.EMPLOYER.value_counts()[:10].plot(kind='bar', color='b', title='top 10 employers')"
   ]
  },
  {
   "cell_type": "code",
   "execution_count": 17,
   "metadata": {},
   "outputs": [
    {
     "data": {
      "text/plain": [
       "50000000"
      ]
     },
     "execution_count": 17,
     "metadata": {},
     "output_type": "execute_result"
    }
   ],
   "source": [
    "sched_a_df['TRANSACTION_AMT'] = sched_a_df['TRANSACTION_AMT'].astype(int)\n",
    "sched_a_df['TRANSACTION_AMT'].max()"
   ]
  },
  {
   "cell_type": "code",
   "execution_count": 18,
   "metadata": {},
   "outputs": [
    {
     "data": {
      "text/plain": [
       "-200000"
      ]
     },
     "execution_count": 18,
     "metadata": {},
     "output_type": "execute_result"
    }
   ],
   "source": [
    "sched_a_df['TRANSACTION_AMT'].min()"
   ]
  },
  {
   "cell_type": "code",
   "execution_count": 19,
   "metadata": {},
   "outputs": [
    {
     "data": {
      "text/plain": [
       "<matplotlib.axes._subplots.AxesSubplot at 0x14c5f7908>"
      ]
     },
     "execution_count": 19,
     "metadata": {},
     "output_type": "execute_result"
    },
    {
     "data": {
      "image/png": "[encoded data removed]",
      "text/plain": [
       "<matplotlib.figure.Figure at 0x14bce6f28>"
      ]
     },
     "metadata": {},
     "output_type": "display_data"
    }
   ],
   "source": [
    "sched_a_df['TRANSACTION_AMT'].plot(title='amount dist', color='g')"
   ]
  },
  {
   "cell_type": "code",
   "execution_count": null,
   "metadata": {
    "collapsed": true
   },
   "outputs": [],
   "source": []
  }
 ],
 "metadata": {
  "kernelspec": {
   "display_name": "Python 3",
   "language": "python",
   "name": "python3"
  },
  "language_info": {
   "codemirror_mode": {
    "name": "ipython",
    "version": 3
   },
   "file_extension": ".py",
   "mimetype": "text/x-python",
   "name": "python",
   "nbconvert_exporter": "python",
   "pygments_lexer": "ipython3",
   "version": "3.6.1"
  }
 },
 "nbformat": 4,
 "nbformat_minor": 2
}
